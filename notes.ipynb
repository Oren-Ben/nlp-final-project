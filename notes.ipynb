{
 "cells": [
  {
   "cell_type": "markdown",
   "metadata": {},
   "source": [
    "Notes regarding the project:\n",
    "- cls vector is produced by bert model and is used for classification by adding a linear layer on top of it.\n",
    "\n",
    "Preparation tasks:\n",
    "- read the paper on sentence bert \n",
    "- learn bert model.\n",
    "- learn how to use bert model.\n",
    "\n",
    "The task:\n",
    "we need to implement Sentence-BERT simplified bert model for similarity search (contrastive learning).\n",
    "- we will use models trained on Hebrew.\n",
    "- the dataset will contains example that entails/contradict each other"
   ]
  },
  {
   "cell_type": "code",
   "execution_count": null,
   "metadata": {},
   "outputs": [],
   "source": []
  },
  {
   "cell_type": "code",
   "execution_count": null,
   "metadata": {},
   "outputs": [],
   "source": []
  },
  {
   "cell_type": "code",
   "execution_count": null,
   "metadata": {},
   "outputs": [],
   "source": []
  },
  {
   "cell_type": "code",
   "execution_count": null,
   "metadata": {},
   "outputs": [],
   "source": []
  }
 ],
 "metadata": {
  "language_info": {
   "name": "python"
  }
 },
 "nbformat": 4,
 "nbformat_minor": 2
}
