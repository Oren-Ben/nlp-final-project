{
 "cells": [
  {
   "cell_type": "markdown",
   "metadata": {},
   "source": [
    "Notes regarding the project:\n",
    "- cls vector is produced by bert model and is used for classification by adding a linear layer on top of it.\n",
    "\n",
    "Preparation tasks:\n",
    "- read the paper on sentence bert \n",
    "- learn bert model.\n",
    "- learn how to use bert model.\n",
    "\n",
    "The task:\n",
    "we need to implement Sentence-BERT simplified bert model for similarity search (contrastive learning).\n",
    "- we will use models trained on Hebrew.\n",
    "- the dataset will contains example that entails/contradict each other"
   ]
  },
  {
   "cell_type": "markdown",
   "metadata": {},
   "source": [
    "## tasks:\n",
    "- read the data.\n",
    "- check preprocessing.\n",
    "- check tokenization.\n",
    "- insert into the given models.\n",
    "- get the cls token / check what does it mean to do a pooling?\n",
    "- build an objective function (triplet loss, cos similarity, etc).\n",
    "- create an eval metric - spearman correlation\n"
   ]
  },
  {
   "cell_type": "markdown",
   "metadata": {},
   "source": [
    "[![Open In Colab](https://colab.research.google.com/assets/colab-badge.svg)](https://colab.research.google.com/github/Oren-Ben/nlp-final-project/blob/main/notes.ipynb)"
   ]
  },
  {
   "cell_type": "code",
   "execution_count": null,
   "metadata": {},
   "outputs": [],
   "source": []
  },
  {
   "cell_type": "code",
   "execution_count": null,
   "metadata": {},
   "outputs": [],
   "source": []
  },
  {
   "cell_type": "code",
   "execution_count": null,
   "metadata": {},
   "outputs": [],
   "source": []
  },
  {
   "cell_type": "code",
   "execution_count": null,
   "metadata": {},
   "outputs": [],
   "source": []
  }
 ],
 "metadata": {
  "kernelspec": {
   "display_name": ".venv",
   "language": "python",
   "name": "python3"
  },
  "language_info": {
   "codemirror_mode": {
    "name": "ipython",
    "version": 3
   },
   "file_extension": ".py",
   "mimetype": "text/x-python",
   "name": "python",
   "nbconvert_exporter": "python",
   "pygments_lexer": "ipython3",
   "version": "3.11.7"
  }
 },
 "nbformat": 4,
 "nbformat_minor": 2
}
